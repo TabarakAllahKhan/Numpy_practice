{
 "cells": [
  {
   "cell_type": "markdown",
   "id": "9e33fc73",
   "metadata": {},
   "source": [
    "# Operations On Array:\n",
    "Numpy support various operations on array such as addition, subtraction, multiplication, division, etc."
   ]
  },
  {
   "cell_type": "code",
   "execution_count": 1,
   "id": "32fb1e08",
   "metadata": {},
   "outputs": [],
   "source": [
    "import numpy as np"
   ]
  },
  {
   "cell_type": "code",
   "execution_count": 3,
   "id": "56334c9a",
   "metadata": {},
   "outputs": [
    {
     "name": "stdout",
     "output_type": "stream",
     "text": [
      "Addition: [ 7  9 11 13 15]\n",
      "Subtraction: [-5 -5 -5 -5 -5]\n",
      "Multiplication: [ 6 14 24 36 50]\n",
      "Division: [0.16666667 0.28571429 0.375      0.44444444 0.5       ]\n",
      "Modulus: [1 2 3 4 5]\n"
     ]
    }
   ],
   "source": [
    "a=np.array([1,2,3,4,5])\n",
    "b=np.array([6,7,8,9,10])\n",
    "\n",
    "# Addition\n",
    "c = a + b\n",
    "# Subtraction\n",
    "d = a - b\n",
    "# Multiplication\n",
    "e = a * b\n",
    "# Division\n",
    "f = a / b\n",
    "# Modulus\n",
    "g = a % b\n",
    "\n",
    "print(\"Addition:\", c)\n",
    "print(\"Subtraction:\", d)\n",
    "print(\"Multiplication:\", e)\n",
    "print(\"Division:\", f)\n",
    "print(\"Modulus:\", g)\n"
   ]
  },
  {
   "cell_type": "markdown",
   "id": "c8caabb8",
   "metadata": {},
   "source": [
    "# What is Broadcasting?"
   ]
  },
  {
   "cell_type": "markdown",
   "id": "dd9f93db",
   "metadata": {},
   "source": [
    "**Broadcasting** in NumPy is a way to perform operations on arrays of different shapes and sizes without making extra copies of data.  \n",
    "It “stretches” the smaller array across the larger one so their shapes match for element-wise operations.\n",
    "\n",
    "### **Easy Example**\n",
    "\n",
    "Suppose you have:\n",
    "\n",
    "- A 2D array:  \n",
    "  ```\n",
    "  [[1, 2, 3],\n",
    "   [4, 5, 6]]\n",
    "  ```\n",
    "- A 1D array:  \n",
    "  ```\n",
    "  [10, 20, 30]\n",
    "  ```\n",
    "\n",
    "If you add them:\n"
   ]
  },
  {
   "cell_type": "code",
   "execution_count": 4,
   "id": "ea177422",
   "metadata": {},
   "outputs": [
    {
     "name": "stdout",
     "output_type": "stream",
     "text": [
      "[[11 22 33]\n",
      " [14 25 36]]\n"
     ]
    }
   ],
   "source": [
    "a = np.array([[1, 2, 3],\n",
    "              [4, 5, 6]])\n",
    "b = np.array([10, 20, 30])\n",
    "print(a + b)"
   ]
  },
  {
   "cell_type": "markdown",
   "id": "2ce89c23",
   "metadata": {},
   "source": [
    "**Result:**\n"
   ]
  },
  {
   "cell_type": "code",
   "execution_count": null,
   "id": "a263076f",
   "metadata": {
    "vscode": {
     "languageId": ""
    }
   },
   "outputs": [],
   "source": [
    "[[11 22 33]\n",
    " [14 25 36]]"
   ]
  },
  {
   "cell_type": "markdown",
   "id": "d0f01035",
   "metadata": {},
   "source": [
    "**How?**  \n",
    "NumPy “stretches” `b` to match the shape of `a`:\n",
    "\n"
   ]
  },
  {
   "cell_type": "code",
   "execution_count": null,
   "id": "41207e9e",
   "metadata": {
    "vscode": {
     "languageId": ""
    }
   },
   "outputs": [],
   "source": [
    "[[10, 20, 30],   ← b is repeated for each row\n",
    " [10, 20, 30]]"
   ]
  },
  {
   "cell_type": "markdown",
   "id": "b666a2c1",
   "metadata": {},
   "source": [
    "\n",
    "\n",
    "---\n",
    "\n",
    "### **Broadcasting Visual**\n",
    "\n"
   ]
  },
  {
   "cell_type": "code",
   "execution_count": null,
   "id": "59173b2d",
   "metadata": {
    "vscode": {
     "languageId": ""
    }
   },
   "outputs": [],
   "source": [
    "a: 2 x 3      b: 1 x 3\n",
    "[[1 2 3]      [10 20 30]\n",
    " [4 5 6]]\n",
    "\n",
    "Result:\n",
    "[[1+10 2+20 3+30]\n",
    " [4+10 5+20 6+30]]"
   ]
  },
  {
   "cell_type": "markdown",
   "id": "c5e9352d",
   "metadata": {},
   "source": [
    "![Broadcasting Visual](broadcastingfigure.png)"
   ]
  },
  {
   "cell_type": "markdown",
   "id": "5ff09ded",
   "metadata": {},
   "source": [
    "\n",
    "\n",
    "---\n",
    "\n",
    "### **Stretching**\n",
    "\n",
    "**Stretching** is just a way of saying NumPy repeats the smaller array along the missing dimension(s) so the shapes match.\n",
    "\n",
    "---\n",
    "\n",
    "**Summary:**  \n",
    "- Broadcasting lets you do math with arrays of different shapes.\n",
    "- NumPy “stretches” the smaller array as needed.\n",
    "- No extra memory is used for the stretched array.\n",
    "\n",
    "---\n",
    "\n",
    "**Tip:**  \n",
    "Broadcasting only works when the shapes are compatible (from the end: dimensions are equal or one of them is 1)."
   ]
  },
  {
   "cell_type": "markdown",
   "id": "9fccc86b",
   "metadata": {},
   "source": [
    "# Rules of Broadcasting\n",
    "1. The dimenssions of any of one array should be one (1).\n",
    "2. Compare the shapes from the right to the left."
   ]
  },
  {
   "cell_type": "code",
   "execution_count": null,
   "id": "02f5d19a",
   "metadata": {},
   "outputs": [],
   "source": [
    "# Broadcasting example\n",
    "array1=np.array([1,2,3,4])\n",
    "array2=np.array([10,20,30,40,50])\n",
    "print(array1 + array2)\n",
    "# This will raise an error because the shapes are not compatible for broadcasting one has 4 elements and the other has 5 elements or columns."
   ]
  },
  {
   "cell_type": "code",
   "execution_count": null,
   "id": "41855db1",
   "metadata": {},
   "outputs": [
    {
     "name": "stdout",
     "output_type": "stream",
     "text": [
      "[[3 4 5]\n",
      " [6 7 8]]\n"
     ]
    }
   ],
   "source": [
    "# Another example of broadcasting\n",
    "a = np.array([[1, 2, 3],\n",
    "              [4, 5, 6]]) # 2x3 array\n",
    "b=np.array([2,2,2]) # 1x3 array\n",
    "# Broadcasting will repeat b for each row of a \n",
    "\"\"\"\n",
    "Or In simple terms that the rule of broadcasting is that the dimensions of any of one array should be one (1)\n",
    "and b is matching like 1x3 so 1 is matching with 2x3\n",
    "\"\"\"\n",
    "print(a + b)"
   ]
  },
  {
   "cell_type": "markdown",
   "id": "76aebf0f",
   "metadata": {},
   "source": [
    "# Vectorization"
   ]
  },
  {
   "cell_type": "markdown",
   "id": "b70595a3",
   "metadata": {},
   "source": [
    "**Vectorization** in NumPy means performing operations on entire arrays (vectors, matrices) at once, instead of using loops to process each element one by one.\n",
    "\n",
    "**Simple explanation:**  \n",
    "- You write code like `a + b` to add two arrays, and NumPy automatically adds each element for you, very fast.\n",
    "- This is much quicker and easier than using a `for` loop.\n",
    "\n",
    "**Example:**\n",
    "\n"
   ]
  },
  {
   "cell_type": "code",
   "execution_count": 7,
   "id": "1345672b",
   "metadata": {},
   "outputs": [
    {
     "name": "stdout",
     "output_type": "stream",
     "text": [
      "[5 7 9]\n"
     ]
    }
   ],
   "source": [
    "import numpy as np\n",
    "a = np.array([1, 2, 3])\n",
    "b = np.array([4, 5, 6])\n",
    "c = a + b  # Vectorized addition\n",
    "print(c)   # Output: [5 7 9]"
   ]
  },
  {
   "cell_type": "markdown",
   "id": "53d9e7d1",
   "metadata": {},
   "source": [
    "\n",
    "\n",
    "**Benefits:**  \n",
    "- Code is shorter and easier to read.\n",
    "- Runs much faster because NumPy uses optimized C code under the hood."
   ]
  }
 ],
 "metadata": {
  "kernelspec": {
   "display_name": "base",
   "language": "python",
   "name": "python3"
  },
  "language_info": {
   "codemirror_mode": {
    "name": "ipython",
    "version": 3
   },
   "file_extension": ".py",
   "mimetype": "text/x-python",
   "name": "python",
   "nbconvert_exporter": "python",
   "pygments_lexer": "ipython3",
   "version": "3.12.8"
  }
 },
 "nbformat": 4,
 "nbformat_minor": 5
}
