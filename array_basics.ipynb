{
 "cells": [
  {
   "cell_type": "markdown",
   "id": "2e107c70",
   "metadata": {},
   "source": [
    "# Numpy Introduction\n",
    "\n"
   ]
  },
  {
   "cell_type": "markdown",
   "id": "06713fa0",
   "metadata": {},
   "source": [
    "NumPy stands for Numerical Python.It is a powerful library for working with arrays and performing numerical computations efficiently.Unlike Python lists, NumPy arrays are faster and use less memory.\n"
   ]
  },
  {
   "cell_type": "markdown",
   "id": "36aa3e27",
   "metadata": {},
   "source": [
    "# Importing Numpy"
   ]
  },
  {
   "cell_type": "code",
   "execution_count": 1,
   "id": "6d9eb11a",
   "metadata": {},
   "outputs": [],
   "source": [
    "import numpy as np"
   ]
  },
  {
   "cell_type": "markdown",
   "id": "b078add5",
   "metadata": {},
   "source": [
    "## Array\n",
    "An array is a data structure that stores a collection of items (elements) of the same type in a single, contiguous block of memory. In NumPy, arrays are called ndarrays and can be multi-dimensional (e.g., 1D, 2D, 3D). Arrays allow efficient storage, access, and manipulation of numerical data, making them ideal for scientific and mathematical computations."
   ]
  },
  {
   "cell_type": "markdown",
   "id": "803a6402",
   "metadata": {},
   "source": [
    "# Creating Numpy Array From Python List"
   ]
  },
  {
   "cell_type": "code",
   "execution_count": 2,
   "id": "8054fa34",
   "metadata": {},
   "outputs": [
    {
     "name": "stdout",
     "output_type": "stream",
     "text": [
      "[1 2 3 4 5]\n"
     ]
    }
   ],
   "source": [
    "# python list\n",
    "\n",
    "my_list = [1, 2, 3, 4, 5]\n",
    "# converting python list to numpy array\n",
    "arr=np.array(my_list)\n",
    "\n",
    "print(arr)"
   ]
  }
 ],
 "metadata": {
  "kernelspec": {
   "display_name": "base",
   "language": "python",
   "name": "python3"
  },
  "language_info": {
   "codemirror_mode": {
    "name": "ipython",
    "version": 3
   },
   "file_extension": ".py",
   "mimetype": "text/x-python",
   "name": "python",
   "nbconvert_exporter": "python",
   "pygments_lexer": "ipython3",
   "version": "3.12.8"
  }
 },
 "nbformat": 4,
 "nbformat_minor": 5
}
