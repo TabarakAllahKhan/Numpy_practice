{
 "cells": [
  {
   "cell_type": "markdown",
   "id": "2e107c70",
   "metadata": {},
   "source": [
    "# Numpy Introduction\n",
    "\n"
   ]
  },
  {
   "cell_type": "markdown",
   "id": "06713fa0",
   "metadata": {},
   "source": [
    "NumPy stands for Numerical Python.It is a powerful library for working with arrays and performing numerical computations efficiently.Unlike Python lists, NumPy arrays are faster and use less memory.\n"
   ]
  },
  {
   "cell_type": "markdown",
   "id": "36aa3e27",
   "metadata": {},
   "source": [
    "# Importing Numpy"
   ]
  },
  {
   "cell_type": "code",
   "execution_count": 1,
   "id": "6d9eb11a",
   "metadata": {},
   "outputs": [],
   "source": [
    "import numpy as np"
   ]
  },
  {
   "cell_type": "markdown",
   "id": "b078add5",
   "metadata": {},
   "source": [
    "## Array\n",
    "An array is a data structure that stores a collection of items (elements) of the same type in a single, contiguous block of memory. In NumPy, arrays are called ndarrays and can be multi-dimensional (e.g., 1D, 2D, 3D). Arrays allow efficient storage, access, and manipulation of numerical data, making them ideal for scientific and mathematical computations."
   ]
  },
  {
   "cell_type": "markdown",
   "id": "2de30bff",
   "metadata": {},
   "source": [
    "# Creating The Arrays:\n",
    "There are multiple ways to create arrays in Numpy. Here are a few examples:\n",
    "1. Using the `numpy.array()` function to create an array from a Python list or tuple\n",
    "2. Using the `numpy.zeros()` function to create an array filled with zeros\n",
    "3. Using the `numpy.ones()` function to create an array filled with ones\n",
    "4. Using `np.arange()` to create an array with a specified range of values"
   ]
  },
  {
   "cell_type": "markdown",
   "id": "803a6402",
   "metadata": {},
   "source": [
    "## Creating Numpy Array From Python List"
   ]
  },
  {
   "cell_type": "code",
   "execution_count": 2,
   "id": "8054fa34",
   "metadata": {},
   "outputs": [
    {
     "name": "stdout",
     "output_type": "stream",
     "text": [
      "[1 2 3 4 5]\n"
     ]
    }
   ],
   "source": [
    "# python list\n",
    "\n",
    "my_list = [1, 2, 3, 4, 5]\n",
    "# converting python list to numpy array\n",
    "arr=np.array(my_list)\n",
    "\n",
    "print(arr)"
   ]
  },
  {
   "cell_type": "markdown",
   "id": "21187368",
   "metadata": {},
   "source": [
    "## Creating The Array Using np.arange"
   ]
  },
  {
   "cell_type": "code",
   "execution_count": 3,
   "id": "f2c25d75",
   "metadata": {},
   "outputs": [
    {
     "name": "stdout",
     "output_type": "stream",
     "text": [
      "[0 1 2 3 4 5]\n"
     ]
    }
   ],
   "source": [
    "# This will create a numpy array with elements from 0 to 5\n",
    "a=np.arange(6)\n",
    "print(a)"
   ]
  },
  {
   "cell_type": "markdown",
   "id": "8ab1b4ca",
   "metadata": {},
   "source": [
    "## Creating Array with np.zeros()"
   ]
  },
  {
   "cell_type": "code",
   "execution_count": 4,
   "id": "52313669",
   "metadata": {},
   "outputs": [
    {
     "data": {
      "text/plain": [
       "array([0., 0.])"
      ]
     },
     "execution_count": 4,
     "metadata": {},
     "output_type": "execute_result"
    }
   ],
   "source": [
    "# Creating an array filled with zeros\n",
    "np.zeros(2)\n"
   ]
  },
  {
   "cell_type": "markdown",
   "id": "f7d09356",
   "metadata": {},
   "source": [
    "## Creating Array with np.ones()"
   ]
  },
  {
   "cell_type": "code",
   "execution_count": 5,
   "id": "f11de31d",
   "metadata": {},
   "outputs": [
    {
     "data": {
      "text/plain": [
       "array([1., 1.])"
      ]
     },
     "execution_count": 5,
     "metadata": {},
     "output_type": "execute_result"
    }
   ],
   "source": [
    "np.ones(2)"
   ]
  },
  {
   "cell_type": "markdown",
   "id": "c9c54aa5",
   "metadata": {},
   "source": [
    "> Above are the Examples To create a 1D array. Now we will see how to create a 2D array"
   ]
  },
  {
   "cell_type": "markdown",
   "id": "25bf5fd9",
   "metadata": {},
   "source": [
    "# Creating a 2D array"
   ]
  },
  {
   "cell_type": "code",
   "execution_count": 6,
   "id": "8bf95eeb",
   "metadata": {},
   "outputs": [
    {
     "name": "stdout",
     "output_type": "stream",
     "text": [
      "[[0 1 2 3 4]]\n"
     ]
    }
   ],
   "source": [
    "arr= np.array([0, 1, 2, 3, 4])\n",
    "arr2=arr[np.newaxis,:]\n",
    "\n",
    "print(arr2)"
   ]
  },
  {
   "cell_type": "code",
   "execution_count": 7,
   "id": "0663ce22",
   "metadata": {},
   "outputs": [
    {
     "name": "stdout",
     "output_type": "stream",
     "text": [
      "1D array with random values:\n",
      "[0.72529884 0.33143661 0.09811894 0.29073392 0.46655394]\n"
     ]
    }
   ],
   "source": [
    "# create a 1d array with random values\n",
    "arr = np.random.rand(5)\n",
    "print(\"1D array with random values:\")\n",
    "print(arr)"
   ]
  },
  {
   "cell_type": "code",
   "execution_count": 8,
   "id": "dc2fe41e",
   "metadata": {},
   "outputs": [
    {
     "name": "stdout",
     "output_type": "stream",
     "text": [
      "Array filled with 7s:\n",
      "[[7 7]\n",
      " [7 7]]\n"
     ]
    }
   ],
   "source": [
    "full= np.full((2, 2), 7)\n",
    "print(\"Array filled with 7s:\")\n",
    "print(full)"
   ]
  },
  {
   "cell_type": "markdown",
   "id": "2ae40dac",
   "metadata": {},
   "source": [
    "# Using Empty Function\n",
    "\n",
    "The function empty creates an array whose initial content is random and depends on the state of the memory. The reason to use empty over zeros (or something similar) is speed - just make sure to fill every element afterwards!"
   ]
  },
  {
   "cell_type": "code",
   "execution_count": 9,
   "id": "4fc3d7f7",
   "metadata": {},
   "outputs": [
    {
     "name": "stdout",
     "output_type": "stream",
     "text": [
      "[[6.23042070e-307 4.67296746e-307 1.69121096e-306]\n",
      " [2.11394409e-307 2.67020135e-306 2.42092166e-322]]\n"
     ]
    }
   ],
   "source": [
    "# Creating an empty array of 2x3\n",
    "empty=np.empty((2,3))\n",
    "print(empty)\n"
   ]
  }
 ],
 "metadata": {
  "kernelspec": {
   "display_name": "base",
   "language": "python",
   "name": "python3"
  },
  "language_info": {
   "codemirror_mode": {
    "name": "ipython",
    "version": 3
   },
   "file_extension": ".py",
   "mimetype": "text/x-python",
   "name": "python",
   "nbconvert_exporter": "python",
   "pygments_lexer": "ipython3",
   "version": "3.12.8"
  }
 },
 "nbformat": 4,
 "nbformat_minor": 5
}
