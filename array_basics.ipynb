{
 "cells": [
  {
   "cell_type": "markdown",
   "id": "2e107c70",
   "metadata": {},
   "source": [
    "# Numpy Introduction\n",
    "\n"
   ]
  },
  {
   "cell_type": "markdown",
   "id": "06713fa0",
   "metadata": {},
   "source": [
    "NumPy is a powerful Python library for numerical computing. It provides support for large, multi-dimensional arrays and matrices, along with a collection of mathematical functions to operate on these arrays efficiently. NumPy is widely used in data science, machine learning, and scientific computing for tasks such as data manipulation, linear algebra, and statistical analysis."
   ]
  },
  {
   "cell_type": "code",
   "execution_count": 1,
   "id": "6d9eb11a",
   "metadata": {},
   "outputs": [],
   "source": [
    "import numpy as np"
   ]
  }
 ],
 "metadata": {
  "kernelspec": {
   "display_name": "base",
   "language": "python",
   "name": "python3"
  },
  "language_info": {
   "codemirror_mode": {
    "name": "ipython",
    "version": 3
   },
   "file_extension": ".py",
   "mimetype": "text/x-python",
   "name": "python",
   "nbconvert_exporter": "python",
   "pygments_lexer": "ipython3",
   "version": "3.12.8"
  }
 },
 "nbformat": 4,
 "nbformat_minor": 5
}
