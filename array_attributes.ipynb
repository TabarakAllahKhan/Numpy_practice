{
 "cells": [
  {
   "cell_type": "markdown",
   "id": "d3b9b83f",
   "metadata": {},
   "source": [
    "# Numpy Array Attributes:\n"
   ]
  },
  {
   "cell_type": "markdown",
   "id": "4360799b",
   "metadata": {},
   "source": [
    "NumPy arrays have several useful attributes that describe their structure and data:\n",
    "\n",
    "- **ndim**: Number of dimensions (axes) of the array.\n",
    "- **shape**: Tuple representing the size of each dimension.\n",
    "- **size**: Total number of elements in the array.\n",
    "- **dtype**: Data type of the array elements.\n",
    "- **itemsize**: Size (in bytes) of each element.\n",
    "- **nbytes**: Total bytes consumed by the array.\n",
    "- **T**: Transpose of the array (for 2D arrays).\n",
    "\n",
    "These attributes help you understand and manipulate arrays efficiently."
   ]
  },
  {
   "cell_type": "code",
   "execution_count": 1,
   "id": "7a118b5e",
   "metadata": {},
   "outputs": [],
   "source": [
    "import numpy as np"
   ]
  },
  {
   "cell_type": "markdown",
   "id": "05843343",
   "metadata": {},
   "source": [
    "Numpy Shape attribute gives us the total number of rows and columns in the array. The shape of the array is a tuple of two integers, where the first integer represents the number of rows and the second integer represents the number of columns."
   ]
  },
  {
   "cell_type": "code",
   "execution_count": 2,
   "id": "e6872f98",
   "metadata": {},
   "outputs": [
    {
     "name": "stdout",
     "output_type": "stream",
     "text": [
      "[[ 1  2  3  4  5]\n",
      " [ 6  7  8  9 10]]\n",
      "The array shape is: (2, 5)\n"
     ]
    }
   ],
   "source": [
    "arr= np.array([[1, 2, 3, 4, 5],[6, 7, 8, 9, 10]])\n",
    "print(arr)\n",
    "\n",
    "# checking the shape of the array\n",
    "print(f\"The array shape is: {arr.shape}\")"
   ]
  },
  {
   "cell_type": "markdown",
   "id": "420e7ee4",
   "metadata": {},
   "source": [
    "In above code the array shape is (2, 5) which means it has 2 rows and 5 columns."
   ]
  },
  {
   "cell_type": "markdown",
   "id": "ea46a6aa",
   "metadata": {},
   "source": [
    "# Creating 3D Array"
   ]
  },
  {
   "cell_type": "code",
   "execution_count": 3,
   "id": "544a6269",
   "metadata": {},
   "outputs": [
    {
     "name": "stdout",
     "output_type": "stream",
     "text": [
      "Original 2D array:\n",
      "[[1 2 3]\n",
      " [4 5 6]]\n",
      "\n",
      "Expanded to 3D array (shape (1, 2, 3)):\n",
      "[[[1 2 3]\n",
      "  [4 5 6]]]\n"
     ]
    }
   ],
   "source": [
    "# Creating a 3D array using np.expand_dims (to add axes)\n",
    "\n",
    "arr_2d = np.array([[1, 2, 3], [4, 5, 6]])\n",
    "arr_3d = np.expand_dims(arr_2d, axis=0)  # Adds a new axis at position 0\n",
    "\n",
    "print(\"Original 2D array:\")\n",
    "print(arr_2d)\n",
    "print(\"\\nExpanded to 3D array (shape {}):\".format(arr_3d.shape))\n",
    "print(arr_3d)"
   ]
  },
  {
   "cell_type": "markdown",
   "id": "67cc9fba",
   "metadata": {},
   "source": [
    "# Using dtype() function"
   ]
  },
  {
   "cell_type": "code",
   "execution_count": 4,
   "id": "41c19b86",
   "metadata": {},
   "outputs": [
    {
     "name": "stdout",
     "output_type": "stream",
     "text": [
      "The data type of the array elements is: int64\n"
     ]
    }
   ],
   "source": [
    "arr= np.array([1, 2, 3, 4, 5])\n",
    "# Using dtype() function\n",
    "print(f\"The data type of the array elements is: {arr.dtype}\")"
   ]
  },
  {
   "cell_type": "markdown",
   "id": "40dd4b2a",
   "metadata": {},
   "source": [
    "# Using Size() Function"
   ]
  },
  {
   "cell_type": "code",
   "execution_count": 5,
   "id": "83a2be7e",
   "metadata": {},
   "outputs": [
    {
     "data": {
      "text/plain": [
       "5"
      ]
     },
     "execution_count": 5,
     "metadata": {},
     "output_type": "execute_result"
    }
   ],
   "source": [
    "arr.size"
   ]
  },
  {
   "cell_type": "markdown",
   "id": "38ad8dbd",
   "metadata": {},
   "source": [
    "# Using nimdim() function"
   ]
  },
  {
   "cell_type": "code",
   "execution_count": 6,
   "id": "2bb63257",
   "metadata": {},
   "outputs": [
    {
     "name": "stdout",
     "output_type": "stream",
     "text": [
      "The number of dimensions in the array is: 1\n"
     ]
    }
   ],
   "source": [
    "arr=np.array([1, 2, 3, 4, 5])\n",
    "# This will give 1 bcz the array is 1D\n",
    "print(f\"The number of dimensions in the array is: {arr.ndim}\")"
   ]
  },
  {
   "cell_type": "code",
   "execution_count": 7,
   "id": "4ee948a9",
   "metadata": {},
   "outputs": [
    {
     "name": "stdout",
     "output_type": "stream",
     "text": [
      "The length of the array is: 5\n"
     ]
    }
   ],
   "source": [
    "# len of the array\n",
    "print(f\"The length of the array is: {len(arr)}\")"
   ]
  },
  {
   "cell_type": "code",
   "execution_count": 8,
   "id": "82a89f09",
   "metadata": {},
   "outputs": [
    {
     "name": "stdout",
     "output_type": "stream",
     "text": [
      "2\n",
      "[3 6 9]\n"
     ]
    }
   ],
   "source": [
    "matrix = np.array([[1, 2, 3],\n",
    "                   [4, 5, 6],\n",
    "                   [7, 8, 9]])\n",
    "print(matrix[0, 1])  # Element at row 0, column 1 → 2\n",
    "print(matrix[:, 2])  # All rows, column 2 → [3 6 9]\n"
   ]
  },
  {
   "cell_type": "markdown",
   "id": "5594cac5",
   "metadata": {},
   "source": [
    "# Createing an Indentity Matrix"
   ]
  },
  {
   "cell_type": "code",
   "execution_count": 9,
   "id": "e8e8e54e",
   "metadata": {},
   "outputs": [
    {
     "data": {
      "text/plain": [
       "array([[1., 0.],\n",
       "       [0., 1.]])"
      ]
     },
     "execution_count": 9,
     "metadata": {},
     "output_type": "execute_result"
    }
   ],
   "source": [
    "#using np.eye() function to create an identity matrix\n",
    "np.eye(2)"
   ]
  },
  {
   "cell_type": "code",
   "execution_count": 10,
   "id": "88e117e6",
   "metadata": {},
   "outputs": [
    {
     "data": {
      "text/plain": [
       "numpy.ndarray"
      ]
     },
     "execution_count": 10,
     "metadata": {},
     "output_type": "execute_result"
    }
   ],
   "source": [
    "type(arr)"
   ]
  },
  {
   "cell_type": "code",
   "execution_count": null,
   "id": "b457e3f3",
   "metadata": {},
   "outputs": [],
   "source": []
  }
 ],
 "metadata": {
  "kernelspec": {
   "display_name": "base",
   "language": "python",
   "name": "python3"
  },
  "language_info": {
   "codemirror_mode": {
    "name": "ipython",
    "version": 3
   },
   "file_extension": ".py",
   "mimetype": "text/x-python",
   "name": "python",
   "nbconvert_exporter": "python",
   "pygments_lexer": "ipython3",
   "version": "3.12.8"
  }
 },
 "nbformat": 4,
 "nbformat_minor": 5
}
