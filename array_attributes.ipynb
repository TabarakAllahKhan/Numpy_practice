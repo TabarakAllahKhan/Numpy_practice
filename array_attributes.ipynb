{
 "cells": [
  {
   "cell_type": "markdown",
   "id": "d3b9b83f",
   "metadata": {},
   "source": [
    "# Numpy Array Attributes:\n"
   ]
  },
  {
   "cell_type": "markdown",
   "id": "4360799b",
   "metadata": {},
   "source": [
    "NumPy arrays have several useful attributes that describe their structure and data:\n",
    "\n",
    "- **ndim**: Number of dimensions (axes) of the array.\n",
    "- **shape**: Tuple representing the size of each dimension.\n",
    "- **size**: Total number of elements in the array.\n",
    "- **dtype**: Data type of the array elements.\n",
    "- **itemsize**: Size (in bytes) of each element.\n",
    "- **nbytes**: Total bytes consumed by the array.\n",
    "- **T**: Transpose of the array (for 2D arrays).\n",
    "\n",
    "These attributes help you understand and manipulate arrays efficiently."
   ]
  },
  {
   "cell_type": "code",
   "execution_count": 1,
   "id": "7a118b5e",
   "metadata": {},
   "outputs": [],
   "source": [
    "import numpy as np"
   ]
  },
  {
   "cell_type": "markdown",
   "id": "05843343",
   "metadata": {},
   "source": [
    "Numpy Shape attribute gives us the total number of rows and columns in the array. The shape of the array is a tuple of two integers, where the first integer represents the number of rows and the second integer represents the number of columns."
   ]
  },
  {
   "cell_type": "code",
   "execution_count": 2,
   "id": "e6872f98",
   "metadata": {},
   "outputs": [
    {
     "name": "stdout",
     "output_type": "stream",
     "text": [
      "[[ 1  2  3  4  5]\n",
      " [ 6  7  8  9 10]]\n",
      "The array shape is: (2, 5)\n"
     ]
    }
   ],
   "source": [
    "arr= np.array([[1, 2, 3, 4, 5],[6, 7, 8, 9, 10]])\n",
    "print(arr)\n",
    "\n",
    "# checking the shape of the array\n",
    "print(f\"The array shape is: {arr.shape}\")"
   ]
  },
  {
   "cell_type": "markdown",
   "id": "420e7ee4",
   "metadata": {},
   "source": [
    "In above code the array shape is (2, 5) which means it has 2 rows and 5 columns."
   ]
  },
  {
   "cell_type": "markdown",
   "id": "ea46a6aa",
   "metadata": {},
   "source": [
    "# Creating 3D Array"
   ]
  },
  {
   "cell_type": "code",
   "execution_count": 3,
   "id": "544a6269",
   "metadata": {},
   "outputs": [],
   "source": [
    "arr3=arr"
   ]
  }
 ],
 "metadata": {
  "kernelspec": {
   "display_name": "base",
   "language": "python",
   "name": "python3"
  },
  "language_info": {
   "codemirror_mode": {
    "name": "ipython",
    "version": 3
   },
   "file_extension": ".py",
   "mimetype": "text/x-python",
   "name": "python",
   "nbconvert_exporter": "python",
   "pygments_lexer": "ipython3",
   "version": "3.12.8"
  }
 },
 "nbformat": 4,
 "nbformat_minor": 5
}
