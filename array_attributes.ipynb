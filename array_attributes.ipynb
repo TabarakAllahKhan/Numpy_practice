{
 "cells": [
  {
   "cell_type": "markdown",
   "id": "d3b9b83f",
   "metadata": {},
   "source": [
    "# Numpy Array Attributes:\n"
   ]
  },
  {
   "cell_type": "markdown",
   "id": "4360799b",
   "metadata": {},
   "source": [
    "NumPy arrays have several useful attributes that describe their structure and data:\n",
    "\n",
    "- **ndim**: Number of dimensions (axes) of the array.\n",
    "- **shape**: Tuple representing the size of each dimension.\n",
    "- **size**: Total number of elements in the array.\n",
    "- **dtype**: Data type of the array elements.\n",
    "- **itemsize**: Size (in bytes) of each element.\n",
    "- **nbytes**: Total bytes consumed by the array.\n",
    "- **T**: Transpose of the array (for 2D arrays).\n",
    "\n",
    "These attributes help you understand and manipulate arrays efficiently."
   ]
  },
  {
   "cell_type": "code",
   "execution_count": 1,
   "id": "7a118b5e",
   "metadata": {},
   "outputs": [],
   "source": [
    "import numpy as np"
   ]
  }
 ],
 "metadata": {
  "kernelspec": {
   "display_name": "base",
   "language": "python",
   "name": "python3"
  },
  "language_info": {
   "codemirror_mode": {
    "name": "ipython",
    "version": 3
   },
   "file_extension": ".py",
   "mimetype": "text/x-python",
   "name": "python",
   "nbconvert_exporter": "python",
   "pygments_lexer": "ipython3",
   "version": "3.12.8"
  }
 },
 "nbformat": 4,
 "nbformat_minor": 5
}
